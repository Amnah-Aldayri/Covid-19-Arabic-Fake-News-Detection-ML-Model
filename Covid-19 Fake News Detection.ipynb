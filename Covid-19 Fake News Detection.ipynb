{
  "nbformat": 4,
  "nbformat_minor": 0,
  "metadata": {
    "colab": {
      "name": "Untitled6.ipynb",
      "provenance": [],
      "collapsed_sections": []
    },
    "kernelspec": {
      "name": "python3",
      "display_name": "Python 3"
    }
  },
  "cells": [
    {
      "cell_type": "code",
      "metadata": {
        "colab": {
          "base_uri": "https://localhost:8080/"
        },
        "id": "HMqWrSXglG4q",
        "outputId": "6e2b3127-929d-46ea-8aea-f209f1082bd4"
      },
      "source": [
        "import numpy as np\n",
        "import pandas as pd\n",
        "from pandas import DataFrame\n",
        "import matplotlib.pyplot as plt\n",
        "import itertools\n",
        "import csv,codecs,nltk,re\n",
        "from nltk.stem.isri import ISRIStemmer\n",
        "from nltk.corpus import stopwords\n",
        "from nltk.tokenize import word_tokenize\n",
        "import itertools\n",
        "import sklearn\n",
        "from sklearn.feature_extraction.text import TfidfVectorizer,TfidfTransformer,CountVectorizer\n",
        "from sklearn.model_selection import cross_validate,train_test_split,KFold\n",
        "from sklearn.metrics import classification_report\n",
        "from sklearn.naive_bayes import MultinomialNB, GaussianNB, BernoulliNB\n",
        "from sklearn.linear_model import LogisticRegression,SGDClassifier\n",
        "from sklearn.svm import SVC, NuSVC , LinearSVC\n",
        "from sklearn.tree import DecisionTreeClassifier\n",
        "from sklearn.neighbors import KNeighborsClassifier\n",
        "from sklearn.metrics import *\n",
        "from sklearn.neural_network import MLPClassifier\n",
        "import seaborn as sns\n",
        "import random\n",
        "nltk.download('stopwords')\n",
        "from nltk.stem import SnowballStemmer, ISRIStemmer\n",
        "import string\n",
        "from nltk.corpus import stopwords \n",
        "from sklearn import preprocessing\n",
        "from sklearn.model_selection import train_test_split\n",
        "from sklearn.metrics import confusion_matrix\n",
        "from sklearn.model_selection import cross_val_score"
      ],
      "execution_count": null,
      "outputs": [
        {
          "output_type": "stream",
          "text": [
            "[nltk_data] Downloading package stopwords to /root/nltk_data...\n",
            "[nltk_data]   Unzipping corpora/stopwords.zip.\n"
          ],
          "name": "stdout"
        }
      ]
    },
    {
      "cell_type": "markdown",
      "metadata": {
        "id": "ALCcGR0Un0SB"
      },
      "source": [
        "**Read csv file**"
      ]
    },
    {
      "cell_type": "code",
      "metadata": {
        "colab": {
          "resources": {
            "http://localhost:8080/nbextensions/google.colab/files.js": {
              "data": "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",
              "ok": true,
              "headers": [
                [
                  "content-type",
                  "application/javascript"
                ]
              ],
              "status": 200,
              "status_text": ""
            }
          },
          "base_uri": "https://localhost:8080/",
          "height": 72
        },
        "id": "t5aI1rCOlLnD",
        "outputId": "c369db5c-d740-47b1-c860-5ce4454bf534"
      },
      "source": [
        "from google.colab import files\n",
        "uploaded = files.upload()"
      ],
      "execution_count": null,
      "outputs": [
        {
          "output_type": "display_data",
          "data": {
            "text/html": [
              "\n",
              "     <input type=\"file\" id=\"files-e978ba23-5b12-4877-a565-19384138c732\" name=\"files[]\" multiple disabled\n",
              "        style=\"border:none\" />\n",
              "     <output id=\"result-e978ba23-5b12-4877-a565-19384138c732\">\n",
              "      Upload widget is only available when the cell has been executed in the\n",
              "      current browser session. Please rerun this cell to enable.\n",
              "      </output>\n",
              "      <script src=\"/nbextensions/google.colab/files.js\"></script> "
            ],
            "text/plain": [
              "<IPython.core.display.HTML object>"
            ]
          },
          "metadata": {
            "tags": []
          }
        },
        {
          "output_type": "stream",
          "text": [
            "Saving Clime11_3.csv to Clime11_3.csv\n"
          ],
          "name": "stdout"
        }
      ]
    },
    {
      "cell_type": "code",
      "metadata": {
        "colab": {
          "base_uri": "https://localhost:8080/",
          "height": 204
        },
        "id": "pUI5WAcelYJr",
        "outputId": "f4060baf-0cd2-496f-b97f-06636b6e33de"
      },
      "source": [
        "df = pd.read_csv(\"Clime11_3.csv\")\n",
        "df.dropna(inplace=True)\n",
        "df.head()"
      ],
      "execution_count": null,
      "outputs": [
        {
          "output_type": "execute_result",
          "data": {
            "text/html": [
              "<div>\n",
              "<style scoped>\n",
              "    .dataframe tbody tr th:only-of-type {\n",
              "        vertical-align: middle;\n",
              "    }\n",
              "\n",
              "    .dataframe tbody tr th {\n",
              "        vertical-align: top;\n",
              "    }\n",
              "\n",
              "    .dataframe thead th {\n",
              "        text-align: right;\n",
              "    }\n",
              "</style>\n",
              "<table border=\"1\" class=\"dataframe\">\n",
              "  <thead>\n",
              "    <tr style=\"text-align: right;\">\n",
              "      <th></th>\n",
              "      <th>ClaimID</th>\n",
              "      <th>Category</th>\n",
              "      <th>Claim</th>\n",
              "      <th>ClaimSource</th>\n",
              "      <th>ClaimLabel</th>\n",
              "    </tr>\n",
              "  </thead>\n",
              "  <tbody>\n",
              "    <tr>\n",
              "      <th>0</th>\n",
              "      <td>1</td>\n",
              "      <td>Entertainment</td>\n",
              "      <td>تنبأت الولايات المتحدة الأمريكية بتفشي فيروس ك...</td>\n",
              "      <td>shorturl.at/csuFZ</td>\n",
              "      <td>False</td>\n",
              "    </tr>\n",
              "    <tr>\n",
              "      <th>1</th>\n",
              "      <td>2</td>\n",
              "      <td>Social</td>\n",
              "      <td>قامت الصين بتصفية -قتل- المصابين بفيروس كورونا...</td>\n",
              "      <td>shorturl.at/djsx7</td>\n",
              "      <td>False</td>\n",
              "    </tr>\n",
              "    <tr>\n",
              "      <th>2</th>\n",
              "      <td>3</td>\n",
              "      <td>Social</td>\n",
              "      <td>تساقط العديد من الأشخاص في شوارع الصين بسبب إص...</td>\n",
              "      <td>shorturl.at/fDW39</td>\n",
              "      <td>False</td>\n",
              "    </tr>\n",
              "    <tr>\n",
              "      <th>3</th>\n",
              "      <td>4</td>\n",
              "      <td>Social</td>\n",
              "      <td>سافر شابًا عربيًا وحيداً على متن طائرة متجهة م...</td>\n",
              "      <td>shorturl.at/rEFV9</td>\n",
              "      <td>False</td>\n",
              "    </tr>\n",
              "    <tr>\n",
              "      <th>4</th>\n",
              "      <td>5</td>\n",
              "      <td>Social</td>\n",
              "      <td>تنتشر الأوبئة القاتلة في العالم في العام العشر...</td>\n",
              "      <td>shorturl.at/HIMS5</td>\n",
              "      <td>False</td>\n",
              "    </tr>\n",
              "  </tbody>\n",
              "</table>\n",
              "</div>"
            ],
            "text/plain": [
              "   ClaimID        Category  ...        ClaimSource ClaimLabel\n",
              "0         1  Entertainment  ...  shorturl.at/csuFZ      False\n",
              "1         2         Social  ...  shorturl.at/djsx7      False\n",
              "2         3         Social  ...  shorturl.at/fDW39      False\n",
              "3         4         Social  ...  shorturl.at/rEFV9      False\n",
              "4         5         Social  ...  shorturl.at/HIMS5      False\n",
              "\n",
              "[5 rows x 5 columns]"
            ]
          },
          "metadata": {
            "tags": []
          },
          "execution_count": 4
        }
      ]
    },
    {
      "cell_type": "code",
      "metadata": {
        "id": "vsHrXihjNk5o"
      },
      "source": [
        "df= pd.read_csv(\"Clime11_3.csv\")\n",
        "df.drop('ClaimSource',axis='columns', inplace=True)"
      ],
      "execution_count": null,
      "outputs": []
    },
    {
      "cell_type": "code",
      "metadata": {
        "id": "vl67yYl6Ouj9",
        "colab": {
          "base_uri": "https://localhost:8080/",
          "height": 204
        },
        "outputId": "3d793d75-e818-4cfb-ea11-6469377c1c52"
      },
      "source": [
        "df.head()"
      ],
      "execution_count": null,
      "outputs": [
        {
          "output_type": "execute_result",
          "data": {
            "text/html": [
              "<div>\n",
              "<style scoped>\n",
              "    .dataframe tbody tr th:only-of-type {\n",
              "        vertical-align: middle;\n",
              "    }\n",
              "\n",
              "    .dataframe tbody tr th {\n",
              "        vertical-align: top;\n",
              "    }\n",
              "\n",
              "    .dataframe thead th {\n",
              "        text-align: right;\n",
              "    }\n",
              "</style>\n",
              "<table border=\"1\" class=\"dataframe\">\n",
              "  <thead>\n",
              "    <tr style=\"text-align: right;\">\n",
              "      <th></th>\n",
              "      <th>ClaimID</th>\n",
              "      <th>Category</th>\n",
              "      <th>Claim</th>\n",
              "      <th>ClaimLabel</th>\n",
              "    </tr>\n",
              "  </thead>\n",
              "  <tbody>\n",
              "    <tr>\n",
              "      <th>0</th>\n",
              "      <td>1</td>\n",
              "      <td>Entertainment</td>\n",
              "      <td>تنبأت الولايات المتحدة الأمريكية بتفشي فيروس ك...</td>\n",
              "      <td>False</td>\n",
              "    </tr>\n",
              "    <tr>\n",
              "      <th>1</th>\n",
              "      <td>2</td>\n",
              "      <td>Social</td>\n",
              "      <td>قامت الصين بتصفية -قتل- المصابين بفيروس كورونا...</td>\n",
              "      <td>False</td>\n",
              "    </tr>\n",
              "    <tr>\n",
              "      <th>2</th>\n",
              "      <td>3</td>\n",
              "      <td>Social</td>\n",
              "      <td>تساقط العديد من الأشخاص في شوارع الصين بسبب إص...</td>\n",
              "      <td>False</td>\n",
              "    </tr>\n",
              "    <tr>\n",
              "      <th>3</th>\n",
              "      <td>4</td>\n",
              "      <td>Social</td>\n",
              "      <td>سافر شابًا عربيًا وحيداً على متن طائرة متجهة م...</td>\n",
              "      <td>False</td>\n",
              "    </tr>\n",
              "    <tr>\n",
              "      <th>4</th>\n",
              "      <td>5</td>\n",
              "      <td>Social</td>\n",
              "      <td>تنتشر الأوبئة القاتلة في العالم في العام العشر...</td>\n",
              "      <td>False</td>\n",
              "    </tr>\n",
              "  </tbody>\n",
              "</table>\n",
              "</div>"
            ],
            "text/plain": [
              "   ClaimID   ... ClaimLabel\n",
              "0         1  ...      False\n",
              "1         2  ...      False\n",
              "2         3  ...      False\n",
              "3         4  ...      False\n",
              "4         5  ...      False\n",
              "\n",
              "[5 rows x 4 columns]"
            ]
          },
          "metadata": {
            "tags": []
          },
          "execution_count": 10
        }
      ]
    },
    {
      "cell_type": "code",
      "metadata": {
        "colab": {
          "base_uri": "https://localhost:8080/"
        },
        "id": "0upZbANLl9VZ",
        "outputId": "28833cdf-74d3-4d8b-c63a-045077d42a8b"
      },
      "source": [
        "# check if there is null data\n",
        "df.isnull().sum()"
      ],
      "execution_count": null,
      "outputs": [
        {
          "output_type": "execute_result",
          "data": {
            "text/plain": [
              "ClaimID        0\n",
              "Category       0\n",
              "Claim          0\n",
              "ClaimSource    0\n",
              "ClaimLabel     0\n",
              "dtype: int64"
            ]
          },
          "metadata": {
            "tags": []
          },
          "execution_count": 5
        }
      ]
    },
    {
      "cell_type": "code",
      "metadata": {
        "colab": {
          "base_uri": "https://localhost:8080/"
        },
        "id": "5_Wt9PK-mDZK",
        "outputId": "b797b69b-0a58-4f05-bf3d-0424014c513b"
      },
      "source": [
        "df.shape"
      ],
      "execution_count": null,
      "outputs": [
        {
          "output_type": "execute_result",
          "data": {
            "text/plain": [
              "(188, 5)"
            ]
          },
          "metadata": {
            "tags": []
          },
          "execution_count": 6
        }
      ]
    },
    {
      "cell_type": "code",
      "metadata": {
        "colab": {
          "base_uri": "https://localhost:8080/",
          "height": 405
        },
        "id": "GGNReAqjmKWu",
        "outputId": "3300daf7-a556-4040-ae29-d559614ad986"
      },
      "source": [
        "plt.figure(figsize=(14,6))\n",
        "sns.countplot(data=df, x='ClaimLabel')"
      ],
      "execution_count": null,
      "outputs": [
        {
          "output_type": "execute_result",
          "data": {
            "text/plain": [
              "<matplotlib.axes._subplots.AxesSubplot at 0x7f975165da10>"
            ]
          },
          "metadata": {
            "tags": []
          },
          "execution_count": 7
        },
        {
          "output_type": "display_data",
          "data": {
            "image/png": "[encoded data removed]",
            "text/plain": [
              "<Figure size 1008x432 with 1 Axes>"
            ]
          },
          "metadata": {
            "tags": [],
            "needs_background": "light"
          }
        }
      ]
    },
    {
      "cell_type": "code",
      "metadata": {
        "colab": {
          "base_uri": "https://localhost:8080/",
          "height": 405
        },
        "id": "sO8jNgEMnmoD",
        "outputId": "8e687c20-d5d0-4963-f30f-bf8e42e34eed"
      },
      "source": [
        "plt.figure(figsize=(14,6))\n",
        "sns.countplot(data=df, x='Category')"
      ],
      "execution_count": null,
      "outputs": [
        {
          "output_type": "execute_result",
          "data": {
            "text/plain": [
              "<matplotlib.axes._subplots.AxesSubplot at 0x7f9751641110>"
            ]
          },
          "metadata": {
            "tags": []
          },
          "execution_count": 8
        },
        {
          "output_type": "display_data",
          "data": {
            "image/png": "[encoded data removed]",
            "text/plain": [
              "<Figure size 1008x432 with 1 Axes>"
            ]
          },
          "metadata": {
            "tags": [],
            "needs_background": "light"
          }
        }
      ]
    },
    {
      "cell_type": "markdown",
      "metadata": {
        "id": "N03-0sRznrg2"
      },
      "source": [
        "**Data preprocessing**"
      ]
    },
    {
      "cell_type": "code",
      "metadata": {
        "colab": {
          "base_uri": "https://localhost:8080/",
          "height": 35
        },
        "id": "Mf0hL_u3n_H6",
        "outputId": "847512d7-0881-4948-ac36-9756d716db39"
      },
      "source": [
        "df.Claim[8]"
      ],
      "execution_count": null,
      "outputs": [
        {
          "output_type": "execute_result",
          "data": {
            "application/vnd.google.colaboratory.intrinsic+json": {
              "type": "string"
            },
            "text/plain": [
              "'هجوم أسراب من طائر الغراب والبعوض على شوارع الصين بحثاً عن جثث الهالكين بفيروس كورونا (كوفيد-19) بعد تصاعد رائحتها.'"
            ]
          },
          "metadata": {
            "tags": []
          },
          "execution_count": 9
        }
      ]
    },
    {
      "cell_type": "code",
      "metadata": {
        "id": "jjYp_EmBoAsz"
      },
      "source": [
        "search = [\"أ\",\"إ\",\"آ\",\"ة\",\"_\",\"-\",\"/\",\".\",\"،\",\" و \",\" يا \",'\"',\"ـ\",\"'\",\"ى\",\"\\\\\",'\\n', '\\t','&quot;','?','؟','!']\n",
        "replace = [\"ا\",\"ا\",\"ا\",\"ه\",\" \",\" \",\"\",\"\",\"\",\" و\",\" يا\",\"\",\"\",\"\",\"ي\",\"\",' ', ' ',' ',' ? ',' ؟ ',' ! ']\n",
        "arabic_punctuations = '''`÷×؛<>_()*&^%][ـ،/:\"؟.,'{}~¦+|!”…“–ـ'''\n",
        "english_punctuations = string.punctuation\n",
        "punctuations_list = arabic_punctuations + english_punctuations\n",
        "\n",
        "\n",
        "# remove tashkeel\n",
        "arabic_diacritics = re.compile(\"\"\"\n",
        "                             ّ    | # Tashdid\n",
        "                             َ    | # Fatha\n",
        "                             ً    | # Tanwin Fath\n",
        "                             ُ    | # Damma\n",
        "                             ٌ    | # Tanwin Damm\n",
        "                             ِ    | # Kasra\n",
        "                             ٍ    | # Tanwin Kasr\n",
        "                             ْ    | # Sukun\n",
        "                             ـ     # Tatwil/Kashida\n",
        "                         \"\"\", re.VERBOSE)\n",
        "\n",
        "\n",
        "def normalize_arabic(text):\n",
        "    text = re.sub(\"[إأآا]\", \"ا\", text)\n",
        "    text = re.sub(\"ى\", \"ي\", text)\n",
        "    text = re.sub(\"ؤ\", \"ء\", text)\n",
        "    text = re.sub(\"ئ\", \"ء\", text)\n",
        "    text = re.sub(\"ة\", \"ه\", text)\n",
        "    text = re.sub(\"گ\", \"ك\", text)\n",
        "    return text\n",
        "\n",
        "# remove diacritics from text\n",
        "def remove_diacritics(text):\n",
        "    text = re.sub(arabic_diacritics, '', text)\n",
        "    for i in range(0, len(search)):\n",
        "        text = text.replace(search[i], replace[i])\n",
        "    return text\n",
        "\n",
        "# setmming to restore original world\n",
        "def LightStemmer(wordList):\n",
        "    result = list()\n",
        "    stemmer = ISRIStemmer()\n",
        "    for word in wordList:\n",
        "        word = stemmer.norm(word, num=1)\n",
        "        word = stemmer.pre32(word)        \n",
        "        word = stemmer.suf32(word)        \n",
        "        word = stemmer.waw(word)          \n",
        "        word = stemmer.norm(word, num=2)  \n",
        "        # word = stemmer.stem(word)\n",
        "        result.append(word)\n",
        "                \n",
        "    return ' '.join(result)\n",
        "\n",
        "\n",
        "def cleanStem(text):\n",
        "    text = normalize_arabic(text)\n",
        "    text = remove_diacritics(text)\n",
        "    text = LightStemmer(text.split(' '))\n",
        "\n",
        "    return text\n"
      ],
      "execution_count": null,
      "outputs": []
    },
    {
      "cell_type": "markdown",
      "metadata": {
        "id": "4iVFs6YUD59r"
      },
      "source": [
        "**Evaluation**"
      ]
    },
    {
      "cell_type": "code",
      "metadata": {
        "colab": {
          "base_uri": "https://localhost:8080/"
        },
        "id": "7BzVseJ5oH_U",
        "outputId": "b29df2c6-0632-44cc-8cc5-b1234fbe0028"
      },
      "source": [
        "tweets = df['Claim']\n",
        "labels = df['ClaimLabel']\n",
        "df.ClaimLabel.value_counts()"
      ],
      "execution_count": null,
      "outputs": [
        {
          "output_type": "execute_result",
          "data": {
            "text/plain": [
              "False    95\n",
              "True     93\n",
              "Name: ClaimLabel, dtype: int64"
            ]
          },
          "metadata": {
            "tags": []
          },
          "execution_count": 11
        }
      ]
    },
    {
      "cell_type": "code",
      "metadata": {
        "id": "manpt2z667l9"
      },
      "source": [
        "# split data to train and test\n",
        "\n",
        "X_train, X_test, y_train, y_test = train_test_split(tweets, labels,test_size=0.2)"
      ],
      "execution_count": null,
      "outputs": []
    },
    {
      "cell_type": "code",
      "metadata": {
        "id": "3haxqS2Z7fwk"
      },
      "source": [
        "X_train = X_train.apply(lambda x: cleanStem(x)) "
      ],
      "execution_count": null,
      "outputs": []
    },
    {
      "cell_type": "code",
      "metadata": {
        "colab": {
          "base_uri": "https://localhost:8080/"
        },
        "id": "BlEKTKcK7kZk",
        "outputId": "42bee89a-dbf8-4a57-d52c-29fba9bb7bb1"
      },
      "source": [
        "X_train.head()"
      ],
      "execution_count": null,
      "outputs": [
        {
          "output_type": "execute_result",
          "data": {
            "text/plain": [
              "182    #بورصه مصر تنهي جلسات لون احمر ثلاثي يتراجع بن...\n",
              "123    لا تحمي لقاح التهاب رءوي من فيروس كورو مستجد (...\n",
              "87              صرح اردوغ انه سيفتح مساجد ترك في شهر رمض\n",
              "39     اسلم 20 ملي صيني بعد اثب ان فيروس كورو (كوفيد ...\n",
              "128    سلمت منظمه صحه عالميه شحنه امداد طبيه عاجله لو...\n",
              "Name: Claim, dtype: object"
            ]
          },
          "metadata": {
            "tags": []
          },
          "execution_count": 14
        }
      ]
    },
    {
      "cell_type": "code",
      "metadata": {
        "id": "CprIAIyRlrMz"
      },
      "source": [
        "data=df"
      ],
      "execution_count": null,
      "outputs": []
    },
    {
      "cell_type": "code",
      "metadata": {
        "id": "hftS5JgzrBeB"
      },
      "source": [
        "cl=[LogisticRegression,SVC, NuSVC , LinearSVC,DecisionTreeClassifier]\n",
        "def get_count(data):\n",
        "    cc = pd.DataFrame()\n",
        "    cc['countt']=[len(t.split())for t in data.text] \n",
        "    return cc   "
      ],
      "execution_count": null,
      "outputs": []
    },
    {
      "cell_type": "code",
      "metadata": {
        "id": "87Glz1l1EOrK"
      },
      "source": [
        "result=\"Classifier\"+'*'+\" Accuracy * f1_score * Recall * precision\"+\"\\n\"\n",
        "X_train, X_test, y_train, y_test = \\\n",
        "    train_test_split(data['Claim'], data['ClaimLabel'],test_size=0.2, random_state = 0)"
      ],
      "execution_count": null,
      "outputs": []
    },
    {
      "cell_type": "code",
      "metadata": {
        "id": "ZAv5cPReEny_"
      },
      "source": [
        "def BoW_Evaluataion(Model, clfName):\n",
        "    vectorizer = CountVectorizer(max_df=1.0, min_df=1).fit(X_train)\n",
        "    X_train_vectorized = vectorizer.transform(X_train)\n",
        "    Model.fit(X_train_vectorized, y_train)\n",
        "    global result\n",
        "    \n",
        "    predictions = Model.predict(vectorizer.transform(X_test))\n",
        "    result+=clfName+'*BoW'+'*'+str(accuracy_score(y_test, predictions))+'*'+str(f1_score(y_test, predictions,average='weighted'))+'*'+str(recall_score(y_test, predictions,average='weighted'))+'*'+str(precision_score(y_test, predictions,average='weighted'))+\"\\n\"\n",
        "\n",
        "    #result+=clfName+'*BoW*'+'*'+str(accuracy_score(y_test, predictions))+'*'+str(f1_score(y_test, predictions,average='weighted'))+'*'+str(recall_score(y_test, predictions,average='weighted'))+'*'+str()+'*'+str(precision_score(y_test, predictions,average='weighted'))+'*'+str(Model.best_score_)+'*'+str( Model.best_params_)+\"\\n\"\n",
        "    print(\"accuracy\",accuracy_score(y_test, predictions))\n",
        "    print(\"f1_score\",f1_score(y_test, predictions,average='weighted'))\n",
        "    print(\"recall\",recall_score(y_test, predictions,average='weighted'))\n",
        "    print(\"precision\",precision_score(y_test, predictions,average='weighted'))    \n",
        "    print ('\\n clasification report:\\n', classification_report(y_test, predictions))"
      ],
      "execution_count": null,
      "outputs": []
    },
    {
      "cell_type": "code",
      "metadata": {
        "colab": {
          "base_uri": "https://localhost:8080/"
        },
        "id": "MtYYvAZqEuib",
        "outputId": "b6780e1d-8456-4f61-ea7a-76457ddc81f9"
      },
      "source": [
        "for classifier in cl:\n",
        "    BoW_Evaluataion(classifier(),classifier.__name__)"
      ],
      "execution_count": null,
      "outputs": [
        {
          "output_type": "stream",
          "text": [
            "accuracy 0.8421052631578947\n",
            "f1_score 0.8412280701754387\n",
            "recall 0.8421052631578947\n",
            "precision 0.8594497607655501\n",
            "\n",
            " clasification report:\n",
            "               precision    recall  f1-score   support\n",
            "\n",
            "       False       0.77      0.94      0.85        18\n",
            "        True       0.94      0.75      0.83        20\n",
            "\n",
            "    accuracy                           0.84        38\n",
            "   macro avg       0.86      0.85      0.84        38\n",
            "weighted avg       0.86      0.84      0.84        38\n",
            "\n",
            "accuracy 0.7368421052631579\n",
            "f1_score 0.7278708133971291\n",
            "recall 0.7368421052631579\n",
            "precision 0.7921727395411606\n",
            "\n",
            " clasification report:\n",
            "               precision    recall  f1-score   support\n",
            "\n",
            "       False       0.65      0.94      0.77        18\n",
            "        True       0.92      0.55      0.69        20\n",
            "\n",
            "    accuracy                           0.74        38\n",
            "   macro avg       0.79      0.75      0.73        38\n",
            "weighted avg       0.79      0.74      0.73        38\n",
            "\n",
            "accuracy 0.7894736842105263\n",
            "f1_score 0.7859354268022999\n",
            "recall 0.7894736842105263\n",
            "precision 0.8242481203007519\n",
            "\n",
            " clasification report:\n",
            "               precision    recall  f1-score   support\n",
            "\n",
            "       False       0.71      0.94      0.81        18\n",
            "        True       0.93      0.65      0.76        20\n",
            "\n",
            "    accuracy                           0.79        38\n",
            "   macro avg       0.82      0.80      0.79        38\n",
            "weighted avg       0.82      0.79      0.79        38\n",
            "\n",
            "accuracy 0.8421052631578947\n",
            "f1_score 0.8421052631578947\n",
            "recall 0.8421052631578947\n",
            "precision 0.8467836257309941\n",
            "\n",
            " clasification report:\n",
            "               precision    recall  f1-score   support\n",
            "\n",
            "       False       0.80      0.89      0.84        18\n",
            "        True       0.89      0.80      0.84        20\n",
            "\n",
            "    accuracy                           0.84        38\n",
            "   macro avg       0.84      0.84      0.84        38\n",
            "weighted avg       0.85      0.84      0.84        38\n",
            "\n",
            "accuracy 0.8421052631578947\n",
            "f1_score 0.8421052631578947\n",
            "recall 0.8421052631578947\n",
            "precision 0.8467836257309941\n",
            "\n",
            " clasification report:\n",
            "               precision    recall  f1-score   support\n",
            "\n",
            "       False       0.80      0.89      0.84        18\n",
            "        True       0.89      0.80      0.84        20\n",
            "\n",
            "    accuracy                           0.84        38\n",
            "   macro avg       0.84      0.84      0.84        38\n",
            "weighted avg       0.85      0.84      0.84        38\n",
            "\n"
          ],
          "name": "stdout"
        }
      ]
    },
    {
      "cell_type": "code",
      "metadata": {
        "colab": {
          "base_uri": "https://localhost:8080/",
          "height": 204
        },
        "id": "U4VRz9903WGI",
        "outputId": "9760dc1d-10ec-461f-88c7-390c5b57cd7e"
      },
      "source": [
        "from io import StringIO \n",
        "df = pd.read_csv(StringIO(result), sep =\"*\") \n",
        "# Print the dataframe \n",
        "df"
      ],
      "execution_count": null,
      "outputs": [
        {
          "output_type": "execute_result",
          "data": {
            "text/html": [
              "<div>\n",
              "<style scoped>\n",
              "    .dataframe tbody tr th:only-of-type {\n",
              "        vertical-align: middle;\n",
              "    }\n",
              "\n",
              "    .dataframe tbody tr th {\n",
              "        vertical-align: top;\n",
              "    }\n",
              "\n",
              "    .dataframe thead th {\n",
              "        text-align: right;\n",
              "    }\n",
              "</style>\n",
              "<table border=\"1\" class=\"dataframe\">\n",
              "  <thead>\n",
              "    <tr style=\"text-align: right;\">\n",
              "      <th></th>\n",
              "      <th>Classifier</th>\n",
              "      <th>Accuracy</th>\n",
              "      <th>f1_score</th>\n",
              "      <th>Recall</th>\n",
              "      <th>precision</th>\n",
              "    </tr>\n",
              "  </thead>\n",
              "  <tbody>\n",
              "    <tr>\n",
              "      <th>LogisticRegression</th>\n",
              "      <td>BoW</td>\n",
              "      <td>0.842105</td>\n",
              "      <td>0.841228</td>\n",
              "      <td>0.842105</td>\n",
              "      <td>0.859450</td>\n",
              "    </tr>\n",
              "    <tr>\n",
              "      <th>SVC</th>\n",
              "      <td>BoW</td>\n",
              "      <td>0.736842</td>\n",
              "      <td>0.727871</td>\n",
              "      <td>0.736842</td>\n",
              "      <td>0.792173</td>\n",
              "    </tr>\n",
              "    <tr>\n",
              "      <th>NuSVC</th>\n",
              "      <td>BoW</td>\n",
              "      <td>0.789474</td>\n",
              "      <td>0.785935</td>\n",
              "      <td>0.789474</td>\n",
              "      <td>0.824248</td>\n",
              "    </tr>\n",
              "    <tr>\n",
              "      <th>LinearSVC</th>\n",
              "      <td>BoW</td>\n",
              "      <td>0.842105</td>\n",
              "      <td>0.842105</td>\n",
              "      <td>0.842105</td>\n",
              "      <td>0.846784</td>\n",
              "    </tr>\n",
              "    <tr>\n",
              "      <th>DecisionTreeClassifier</th>\n",
              "      <td>BoW</td>\n",
              "      <td>0.842105</td>\n",
              "      <td>0.842105</td>\n",
              "      <td>0.842105</td>\n",
              "      <td>0.846784</td>\n",
              "    </tr>\n",
              "  </tbody>\n",
              "</table>\n",
              "</div>"
            ],
            "text/plain": [
              "                       Classifier   Accuracy    f1_score    Recall    precision\n",
              "LogisticRegression            BoW    0.842105    0.841228  0.842105    0.859450\n",
              "SVC                           BoW    0.736842    0.727871  0.736842    0.792173\n",
              "NuSVC                         BoW    0.789474    0.785935  0.789474    0.824248\n",
              "LinearSVC                     BoW    0.842105    0.842105  0.842105    0.846784\n",
              "DecisionTreeClassifier        BoW    0.842105    0.842105  0.842105    0.846784"
            ]
          },
          "metadata": {
            "tags": []
          },
          "execution_count": 20
        }
      ]
    },
    {
      "cell_type": "code",
      "metadata": {
        "id": "GCmyk-E64gme"
      },
      "source": [
        "result=\"Classifier\"+'*'+\" Accuracy * f1_score * Recall * precision\"+\"\\n\""
      ],
      "execution_count": null,
      "outputs": []
    },
    {
      "cell_type": "code",
      "metadata": {
        "colab": {
          "base_uri": "https://localhost:8080/",
          "height": 707
        },
        "id": "ZwML-ujN4edU",
        "outputId": "f3b7cf5f-4da6-4618-ea80-cdd948e2259f"
      },
      "source": [
        "ax = df.plot.bar(title =\"BoW\", figsize=(15,10),legend=True)"
      ],
      "execution_count": null,
      "outputs": [
        {
          "output_type": "display_data",
          "data": {
            "image/png": "[encoded data removed]",
            "text/plain": [
              "<Figure size 1080x720 with 1 Axes>"
            ]
          },
          "metadata": {
            "tags": [],
            "needs_background": "light"
          }
        }
      ]
    },
    {
      "cell_type": "code",
      "metadata": {
        "id": "6SxDWX_PtJaz"
      },
      "source": [
        "def NGram_Evaluataion(Model,clfName,m,n):\n",
        "    vectorizer = TfidfVectorizer( max_df=1.0, min_df=1,analyzer='word',smooth_idf=True, ngram_range=(m,n))#,analyzer='word'\n",
        "    vectorizer.fit(X_train)\n",
        "    X_train_vectorized = vectorizer.transform(X_train)\n",
        "    Model.fit(X_train_vectorized, y_train)\n",
        "   \n",
        "    global result\n",
        "    predictions = Model.predict(vectorizer.transform(X_test))\n",
        "    result+=clfName+'*Ngram('+str(m)+','+str(n)+')*'+str(accuracy_score(y_test, predictions))+'*'+str(f1_score(y_test, predictions,average='weighted'))+'*'+str(recall_score(y_test, predictions,average='weighted'))+'*'+str(precision_score(y_test, predictions,average='weighted'))+\"\\n\"\n",
        "\n",
        "    print(clfName)\n",
        "    print(\"accuracy\",accuracy_score(y_test, predictions))\n",
        "    print(\"f1_score\",f1_score(y_test, predictions,average='weighted'))\n",
        "    print(\"recall\",recall_score(y_test, predictions,average='weighted'))\n",
        "    print(\"precision\",precision_score(y_test, predictions,average='weighted'))    \n",
        "    print ('\\n clasification report:\\n', classification_report(y_test, predictions))\n"
      ],
      "execution_count": null,
      "outputs": []
    },
    {
      "cell_type": "code",
      "metadata": {
        "colab": {
          "base_uri": "https://localhost:8080/"
        },
        "id": "oIwueSFjleqw",
        "outputId": "0f63459a-20fb-4b06-92e6-82bf9b08878d"
      },
      "source": [
        "for classifier in cl:\n",
        "    NGram_Evaluataion(classifier(),classifier.__name__,1,1) #N-gram range: one word \"Unigram\""
      ],
      "execution_count": null,
      "outputs": [
        {
          "output_type": "stream",
          "text": [
            "LogisticRegression\n",
            "accuracy 0.6842105263157895\n",
            "f1_score 0.6734449760765551\n",
            "recall 0.6842105263157895\n",
            "precision 0.7300944669365722\n",
            "\n",
            " clasification report:\n",
            "               precision    recall  f1-score   support\n",
            "\n",
            "       False       0.62      0.89      0.73        18\n",
            "        True       0.83      0.50      0.62        20\n",
            "\n",
            "    accuracy                           0.68        38\n",
            "   macro avg       0.72      0.69      0.68        38\n",
            "weighted avg       0.73      0.68      0.67        38\n",
            "\n",
            "SVC\n",
            "accuracy 0.6578947368421053\n",
            "f1_score 0.6330462987990887\n",
            "recall 0.6578947368421053\n",
            "precision 0.7455132083081266\n",
            "\n",
            " clasification report:\n",
            "               precision    recall  f1-score   support\n",
            "\n",
            "       False       0.59      0.94      0.72        18\n",
            "        True       0.89      0.40      0.55        20\n",
            "\n",
            "    accuracy                           0.66        38\n",
            "   macro avg       0.74      0.67      0.64        38\n",
            "weighted avg       0.75      0.66      0.63        38\n",
            "\n",
            "NuSVC\n",
            "accuracy 0.7105263157894737\n",
            "f1_score 0.7075004584632313\n",
            "recall 0.7105263157894737\n",
            "precision 0.7299771167048055\n",
            "\n",
            " clasification report:\n",
            "               precision    recall  f1-score   support\n",
            "\n",
            "       False       0.65      0.83      0.73        18\n",
            "        True       0.80      0.60      0.69        20\n",
            "\n",
            "    accuracy                           0.71        38\n",
            "   macro avg       0.73      0.72      0.71        38\n",
            "weighted avg       0.73      0.71      0.71        38\n",
            "\n",
            "LinearSVC\n",
            "accuracy 0.7105263157894737\n",
            "f1_score 0.7075004584632313\n",
            "recall 0.7105263157894737\n",
            "precision 0.7299771167048055\n",
            "\n",
            " clasification report:\n",
            "               precision    recall  f1-score   support\n",
            "\n",
            "       False       0.65      0.83      0.73        18\n",
            "        True       0.80      0.60      0.69        20\n",
            "\n",
            "    accuracy                           0.71        38\n",
            "   macro avg       0.73      0.72      0.71        38\n",
            "weighted avg       0.73      0.71      0.71        38\n",
            "\n",
            "DecisionTreeClassifier\n",
            "accuracy 0.7894736842105263\n",
            "f1_score 0.7858851674641149\n",
            "recall 0.7894736842105263\n",
            "precision 0.8007518796992481\n",
            "\n",
            " clasification report:\n",
            "               precision    recall  f1-score   support\n",
            "\n",
            "       False       0.86      0.67      0.75        18\n",
            "        True       0.75      0.90      0.82        20\n",
            "\n",
            "    accuracy                           0.79        38\n",
            "   macro avg       0.80      0.78      0.78        38\n",
            "weighted avg       0.80      0.79      0.79        38\n",
            "\n"
          ],
          "name": "stdout"
        }
      ]
    },
    {
      "cell_type": "code",
      "metadata": {
        "colab": {
          "base_uri": "https://localhost:8080/",
          "height": 204
        },
        "id": "YIIodi6FloXe",
        "outputId": "d6cd1e82-ebf3-46ff-d5af-7d6b5037453a"
      },
      "source": [
        "from io import StringIO \n",
        "df = pd.read_csv(StringIO(result), sep =\"*\") \n",
        "# Print the dataframe \n",
        "df"
      ],
      "execution_count": null,
      "outputs": [
        {
          "output_type": "execute_result",
          "data": {
            "text/html": [
              "<div>\n",
              "<style scoped>\n",
              "    .dataframe tbody tr th:only-of-type {\n",
              "        vertical-align: middle;\n",
              "    }\n",
              "\n",
              "    .dataframe tbody tr th {\n",
              "        vertical-align: top;\n",
              "    }\n",
              "\n",
              "    .dataframe thead th {\n",
              "        text-align: right;\n",
              "    }\n",
              "</style>\n",
              "<table border=\"1\" class=\"dataframe\">\n",
              "  <thead>\n",
              "    <tr style=\"text-align: right;\">\n",
              "      <th></th>\n",
              "      <th>Classifier</th>\n",
              "      <th>Accuracy</th>\n",
              "      <th>f1_score</th>\n",
              "      <th>Recall</th>\n",
              "      <th>precision</th>\n",
              "    </tr>\n",
              "  </thead>\n",
              "  <tbody>\n",
              "    <tr>\n",
              "      <th>LogisticRegression</th>\n",
              "      <td>Ngram(1,1)</td>\n",
              "      <td>0.684211</td>\n",
              "      <td>0.673445</td>\n",
              "      <td>0.684211</td>\n",
              "      <td>0.730094</td>\n",
              "    </tr>\n",
              "    <tr>\n",
              "      <th>SVC</th>\n",
              "      <td>Ngram(1,1)</td>\n",
              "      <td>0.657895</td>\n",
              "      <td>0.633046</td>\n",
              "      <td>0.657895</td>\n",
              "      <td>0.745513</td>\n",
              "    </tr>\n",
              "    <tr>\n",
              "      <th>NuSVC</th>\n",
              "      <td>Ngram(1,1)</td>\n",
              "      <td>0.710526</td>\n",
              "      <td>0.707500</td>\n",
              "      <td>0.710526</td>\n",
              "      <td>0.729977</td>\n",
              "    </tr>\n",
              "    <tr>\n",
              "      <th>LinearSVC</th>\n",
              "      <td>Ngram(1,1)</td>\n",
              "      <td>0.710526</td>\n",
              "      <td>0.707500</td>\n",
              "      <td>0.710526</td>\n",
              "      <td>0.729977</td>\n",
              "    </tr>\n",
              "    <tr>\n",
              "      <th>DecisionTreeClassifier</th>\n",
              "      <td>Ngram(1,1)</td>\n",
              "      <td>0.789474</td>\n",
              "      <td>0.785885</td>\n",
              "      <td>0.789474</td>\n",
              "      <td>0.800752</td>\n",
              "    </tr>\n",
              "  </tbody>\n",
              "</table>\n",
              "</div>"
            ],
            "text/plain": [
              "                        Classifier   Accuracy   ...   Recall    precision\n",
              "LogisticRegression      Ngram(1,1)    0.684211  ...  0.684211    0.730094\n",
              "SVC                     Ngram(1,1)    0.657895  ...  0.657895    0.745513\n",
              "NuSVC                   Ngram(1,1)    0.710526  ...  0.710526    0.729977\n",
              "LinearSVC               Ngram(1,1)    0.710526  ...  0.710526    0.729977\n",
              "DecisionTreeClassifier  Ngram(1,1)    0.789474  ...  0.789474    0.800752\n",
              "\n",
              "[5 rows x 5 columns]"
            ]
          },
          "metadata": {
            "tags": []
          },
          "execution_count": 25
        }
      ]
    },
    {
      "cell_type": "code",
      "metadata": {
        "colab": {
          "base_uri": "https://localhost:8080/",
          "height": 707
        },
        "id": "kNx8sjuRlxk-",
        "outputId": "fc732362-f160-4f77-e49a-a41cbbc94c85"
      },
      "source": [
        "ax = df.plot.bar(title =\"NGram(1,1)\", figsize=(15,10),legend=True)"
      ],
      "execution_count": null,
      "outputs": [
        {
          "output_type": "display_data",
          "data": {
            "image/png": "[encoded data removed]",
            "text/plain": [
              "<Figure size 1080x720 with 1 Axes>"
            ]
          },
          "metadata": {
            "tags": [],
            "needs_background": "light"
          }
        }
      ]
    },
    {
      "cell_type": "code",
      "metadata": {
        "id": "KHfXW1scuBNi"
      },
      "source": [
        "result=\"Classifier\"+'*'+\" Accuracy * f1_score * Recall * precision\"+\"\\n\"\n"
      ],
      "execution_count": null,
      "outputs": []
    },
    {
      "cell_type": "code",
      "metadata": {
        "id": "Ksjc5RPvu1sv",
        "colab": {
          "base_uri": "https://localhost:8080/"
        },
        "outputId": "28c9aa1b-56d9-40d2-9ba9-50d0f5004346"
      },
      "source": [
        "for classifier in cl:\n",
        "    NGram_Evaluataion(classifier(),classifier.__name__,1,2) #N-gram range: one word \"bigram\""
      ],
      "execution_count": null,
      "outputs": [
        {
          "output_type": "stream",
          "text": [
            "LogisticRegression\n",
            "accuracy 0.6578947368421053\n",
            "f1_score 0.6330462987990887\n",
            "recall 0.6578947368421053\n",
            "precision 0.7455132083081266\n",
            "\n",
            " clasification report:\n",
            "               precision    recall  f1-score   support\n",
            "\n",
            "       False       0.59      0.94      0.72        18\n",
            "        True       0.89      0.40      0.55        20\n",
            "\n",
            "    accuracy                           0.66        38\n",
            "   macro avg       0.74      0.67      0.64        38\n",
            "weighted avg       0.75      0.66      0.63        38\n",
            "\n",
            "SVC\n",
            "accuracy 0.6578947368421053\n",
            "f1_score 0.6330462987990887\n",
            "recall 0.6578947368421053\n",
            "precision 0.7455132083081266\n",
            "\n",
            " clasification report:\n",
            "               precision    recall  f1-score   support\n",
            "\n",
            "       False       0.59      0.94      0.72        18\n",
            "        True       0.89      0.40      0.55        20\n",
            "\n",
            "    accuracy                           0.66        38\n",
            "   macro avg       0.74      0.67      0.64        38\n",
            "weighted avg       0.75      0.66      0.63        38\n",
            "\n",
            "NuSVC\n",
            "accuracy 0.7105263157894737\n",
            "f1_score 0.6974533106960951\n",
            "recall 0.7105263157894737\n",
            "precision 0.7767145135566188\n",
            "\n",
            " clasification report:\n",
            "               precision    recall  f1-score   support\n",
            "\n",
            "       False       0.63      0.94      0.76        18\n",
            "        True       0.91      0.50      0.65        20\n",
            "\n",
            "    accuracy                           0.71        38\n",
            "   macro avg       0.77      0.72      0.70        38\n",
            "weighted avg       0.78      0.71      0.70        38\n",
            "\n",
            "LinearSVC\n",
            "accuracy 0.7105263157894737\n",
            "f1_score 0.6974533106960951\n",
            "recall 0.7105263157894737\n",
            "precision 0.7767145135566188\n",
            "\n",
            " clasification report:\n",
            "               precision    recall  f1-score   support\n",
            "\n",
            "       False       0.63      0.94      0.76        18\n",
            "        True       0.91      0.50      0.65        20\n",
            "\n",
            "    accuracy                           0.71        38\n",
            "   macro avg       0.77      0.72      0.70        38\n",
            "weighted avg       0.78      0.71      0.70        38\n",
            "\n",
            "DecisionTreeClassifier\n",
            "accuracy 0.7631578947368421\n",
            "f1_score 0.7626627544470933\n",
            "recall 0.7631578947368421\n",
            "precision 0.7632316084328468\n",
            "\n",
            " clasification report:\n",
            "               precision    recall  f1-score   support\n",
            "\n",
            "       False       0.76      0.72      0.74        18\n",
            "        True       0.76      0.80      0.78        20\n",
            "\n",
            "    accuracy                           0.76        38\n",
            "   macro avg       0.76      0.76      0.76        38\n",
            "weighted avg       0.76      0.76      0.76        38\n",
            "\n"
          ],
          "name": "stdout"
        }
      ]
    },
    {
      "cell_type": "code",
      "metadata": {
        "id": "JS6HCJFRu6z8",
        "colab": {
          "base_uri": "https://localhost:8080/",
          "height": 204
        },
        "outputId": "414a1124-1f75-47a3-a350-c2ef3af34f54"
      },
      "source": [
        "from io import StringIO \n",
        "df = pd.read_csv(StringIO(result), sep =\"*\") \n",
        "# Print the dataframe \n",
        "df"
      ],
      "execution_count": null,
      "outputs": [
        {
          "output_type": "execute_result",
          "data": {
            "text/html": [
              "<div>\n",
              "<style scoped>\n",
              "    .dataframe tbody tr th:only-of-type {\n",
              "        vertical-align: middle;\n",
              "    }\n",
              "\n",
              "    .dataframe tbody tr th {\n",
              "        vertical-align: top;\n",
              "    }\n",
              "\n",
              "    .dataframe thead th {\n",
              "        text-align: right;\n",
              "    }\n",
              "</style>\n",
              "<table border=\"1\" class=\"dataframe\">\n",
              "  <thead>\n",
              "    <tr style=\"text-align: right;\">\n",
              "      <th></th>\n",
              "      <th>Classifier</th>\n",
              "      <th>Accuracy</th>\n",
              "      <th>f1_score</th>\n",
              "      <th>Recall</th>\n",
              "      <th>precision</th>\n",
              "    </tr>\n",
              "  </thead>\n",
              "  <tbody>\n",
              "    <tr>\n",
              "      <th>LogisticRegression</th>\n",
              "      <td>Ngram(1,2)</td>\n",
              "      <td>0.657895</td>\n",
              "      <td>0.633046</td>\n",
              "      <td>0.657895</td>\n",
              "      <td>0.745513</td>\n",
              "    </tr>\n",
              "    <tr>\n",
              "      <th>SVC</th>\n",
              "      <td>Ngram(1,2)</td>\n",
              "      <td>0.657895</td>\n",
              "      <td>0.633046</td>\n",
              "      <td>0.657895</td>\n",
              "      <td>0.745513</td>\n",
              "    </tr>\n",
              "    <tr>\n",
              "      <th>NuSVC</th>\n",
              "      <td>Ngram(1,2)</td>\n",
              "      <td>0.710526</td>\n",
              "      <td>0.697453</td>\n",
              "      <td>0.710526</td>\n",
              "      <td>0.776715</td>\n",
              "    </tr>\n",
              "    <tr>\n",
              "      <th>LinearSVC</th>\n",
              "      <td>Ngram(1,2)</td>\n",
              "      <td>0.710526</td>\n",
              "      <td>0.697453</td>\n",
              "      <td>0.710526</td>\n",
              "      <td>0.776715</td>\n",
              "    </tr>\n",
              "    <tr>\n",
              "      <th>DecisionTreeClassifier</th>\n",
              "      <td>Ngram(1,2)</td>\n",
              "      <td>0.763158</td>\n",
              "      <td>0.762663</td>\n",
              "      <td>0.763158</td>\n",
              "      <td>0.763232</td>\n",
              "    </tr>\n",
              "  </tbody>\n",
              "</table>\n",
              "</div>"
            ],
            "text/plain": [
              "                        Classifier   Accuracy   ...   Recall    precision\n",
              "LogisticRegression      Ngram(1,2)    0.657895  ...  0.657895    0.745513\n",
              "SVC                     Ngram(1,2)    0.657895  ...  0.657895    0.745513\n",
              "NuSVC                   Ngram(1,2)    0.710526  ...  0.710526    0.776715\n",
              "LinearSVC               Ngram(1,2)    0.710526  ...  0.710526    0.776715\n",
              "DecisionTreeClassifier  Ngram(1,2)    0.763158  ...  0.763158    0.763232\n",
              "\n",
              "[5 rows x 5 columns]"
            ]
          },
          "metadata": {
            "tags": []
          },
          "execution_count": 29
        }
      ]
    },
    {
      "cell_type": "code",
      "metadata": {
        "id": "815f54Cqv2Nr",
        "colab": {
          "base_uri": "https://localhost:8080/",
          "height": 707
        },
        "outputId": "9dc9d71d-ac73-408e-8f29-e288eef844ba"
      },
      "source": [
        "ax = df.plot.bar(title =\"NGram(1,2)\", figsize=(15,10),legend=True)"
      ],
      "execution_count": null,
      "outputs": [
        {
          "output_type": "display_data",
          "data": {
            "image/png": "[encoded data removed]",
            "text/plain": [
              "<Figure size 1080x720 with 1 Axes>"
            ]
          },
          "metadata": {
            "tags": [],
            "needs_background": "light"
          }
        }
      ]
    },
    {
      "cell_type": "code",
      "metadata": {
        "id": "fe1VMqcMv6ss"
      },
      "source": [
        "result=\"Classifier\"+'*'+\" Accuracy * f1_score * Recall * precision\"+\"\\n\"\n"
      ],
      "execution_count": null,
      "outputs": []
    },
    {
      "cell_type": "code",
      "metadata": {
        "id": "TiZWpWK3uUNd",
        "colab": {
          "base_uri": "https://localhost:8080/"
        },
        "outputId": "f343b3cf-8540-4b79-9f66-cc623b2254b0"
      },
      "source": [
        "for classifier in cl:\n",
        "    NGram_Evaluataion(classifier(),classifier.__name__,1,3) #N-gram range: one word \"Trigram\""
      ],
      "execution_count": null,
      "outputs": [
        {
          "output_type": "stream",
          "text": [
            "LogisticRegression\n",
            "accuracy 0.6578947368421053\n",
            "f1_score 0.6330462987990887\n",
            "recall 0.6578947368421053\n",
            "precision 0.7455132083081266\n",
            "\n",
            " clasification report:\n",
            "               precision    recall  f1-score   support\n",
            "\n",
            "       False       0.59      0.94      0.72        18\n",
            "        True       0.89      0.40      0.55        20\n",
            "\n",
            "    accuracy                           0.66        38\n",
            "   macro avg       0.74      0.67      0.64        38\n",
            "weighted avg       0.75      0.66      0.63        38\n",
            "\n",
            "SVC\n",
            "accuracy 0.6578947368421053\n",
            "f1_score 0.6330462987990887\n",
            "recall 0.6578947368421053\n",
            "precision 0.7455132083081266\n",
            "\n",
            " clasification report:\n",
            "               precision    recall  f1-score   support\n",
            "\n",
            "       False       0.59      0.94      0.72        18\n",
            "        True       0.89      0.40      0.55        20\n",
            "\n",
            "    accuracy                           0.66        38\n",
            "   macro avg       0.74      0.67      0.64        38\n",
            "weighted avg       0.75      0.66      0.63        38\n",
            "\n",
            "NuSVC\n",
            "accuracy 0.7105263157894737\n",
            "f1_score 0.6974533106960951\n",
            "recall 0.7105263157894737\n",
            "precision 0.7767145135566188\n",
            "\n",
            " clasification report:\n",
            "               precision    recall  f1-score   support\n",
            "\n",
            "       False       0.63      0.94      0.76        18\n",
            "        True       0.91      0.50      0.65        20\n",
            "\n",
            "    accuracy                           0.71        38\n",
            "   macro avg       0.77      0.72      0.70        38\n",
            "weighted avg       0.78      0.71      0.70        38\n",
            "\n",
            "LinearSVC\n",
            "accuracy 0.7105263157894737\n",
            "f1_score 0.6974533106960951\n",
            "recall 0.7105263157894737\n",
            "precision 0.7767145135566188\n",
            "\n",
            " clasification report:\n",
            "               precision    recall  f1-score   support\n",
            "\n",
            "       False       0.63      0.94      0.76        18\n",
            "        True       0.91      0.50      0.65        20\n",
            "\n",
            "    accuracy                           0.71        38\n",
            "   macro avg       0.77      0.72      0.70        38\n",
            "weighted avg       0.78      0.71      0.70        38\n",
            "\n",
            "DecisionTreeClassifier\n",
            "accuracy 0.7894736842105263\n",
            "f1_score 0.7858851674641149\n",
            "recall 0.7894736842105263\n",
            "precision 0.8007518796992481\n",
            "\n",
            " clasification report:\n",
            "               precision    recall  f1-score   support\n",
            "\n",
            "       False       0.86      0.67      0.75        18\n",
            "        True       0.75      0.90      0.82        20\n",
            "\n",
            "    accuracy                           0.79        38\n",
            "   macro avg       0.80      0.78      0.78        38\n",
            "weighted avg       0.80      0.79      0.79        38\n",
            "\n"
          ],
          "name": "stdout"
        }
      ]
    },
    {
      "cell_type": "code",
      "metadata": {
        "id": "1xPLWcD-wCHu",
        "colab": {
          "base_uri": "https://localhost:8080/",
          "height": 204
        },
        "outputId": "e9f489ff-9089-4381-d2b3-e22875254d0b"
      },
      "source": [
        "from io import StringIO \n",
        "df = pd.read_csv(StringIO(result), sep =\"*\") \n",
        "# Print the dataframe \n",
        "df"
      ],
      "execution_count": null,
      "outputs": [
        {
          "output_type": "execute_result",
          "data": {
            "text/html": [
              "<div>\n",
              "<style scoped>\n",
              "    .dataframe tbody tr th:only-of-type {\n",
              "        vertical-align: middle;\n",
              "    }\n",
              "\n",
              "    .dataframe tbody tr th {\n",
              "        vertical-align: top;\n",
              "    }\n",
              "\n",
              "    .dataframe thead th {\n",
              "        text-align: right;\n",
              "    }\n",
              "</style>\n",
              "<table border=\"1\" class=\"dataframe\">\n",
              "  <thead>\n",
              "    <tr style=\"text-align: right;\">\n",
              "      <th></th>\n",
              "      <th>Classifier</th>\n",
              "      <th>Accuracy</th>\n",
              "      <th>f1_score</th>\n",
              "      <th>Recall</th>\n",
              "      <th>precision</th>\n",
              "    </tr>\n",
              "  </thead>\n",
              "  <tbody>\n",
              "    <tr>\n",
              "      <th>LogisticRegression</th>\n",
              "      <td>Ngram(1,3)</td>\n",
              "      <td>0.657895</td>\n",
              "      <td>0.633046</td>\n",
              "      <td>0.657895</td>\n",
              "      <td>0.745513</td>\n",
              "    </tr>\n",
              "    <tr>\n",
              "      <th>SVC</th>\n",
              "      <td>Ngram(1,3)</td>\n",
              "      <td>0.657895</td>\n",
              "      <td>0.633046</td>\n",
              "      <td>0.657895</td>\n",
              "      <td>0.745513</td>\n",
              "    </tr>\n",
              "    <tr>\n",
              "      <th>NuSVC</th>\n",
              "      <td>Ngram(1,3)</td>\n",
              "      <td>0.710526</td>\n",
              "      <td>0.697453</td>\n",
              "      <td>0.710526</td>\n",
              "      <td>0.776715</td>\n",
              "    </tr>\n",
              "    <tr>\n",
              "      <th>LinearSVC</th>\n",
              "      <td>Ngram(1,3)</td>\n",
              "      <td>0.710526</td>\n",
              "      <td>0.697453</td>\n",
              "      <td>0.710526</td>\n",
              "      <td>0.776715</td>\n",
              "    </tr>\n",
              "    <tr>\n",
              "      <th>DecisionTreeClassifier</th>\n",
              "      <td>Ngram(1,3)</td>\n",
              "      <td>0.789474</td>\n",
              "      <td>0.785885</td>\n",
              "      <td>0.789474</td>\n",
              "      <td>0.800752</td>\n",
              "    </tr>\n",
              "  </tbody>\n",
              "</table>\n",
              "</div>"
            ],
            "text/plain": [
              "                        Classifier   Accuracy   ...   Recall    precision\n",
              "LogisticRegression      Ngram(1,3)    0.657895  ...  0.657895    0.745513\n",
              "SVC                     Ngram(1,3)    0.657895  ...  0.657895    0.745513\n",
              "NuSVC                   Ngram(1,3)    0.710526  ...  0.710526    0.776715\n",
              "LinearSVC               Ngram(1,3)    0.710526  ...  0.710526    0.776715\n",
              "DecisionTreeClassifier  Ngram(1,3)    0.789474  ...  0.789474    0.800752\n",
              "\n",
              "[5 rows x 5 columns]"
            ]
          },
          "metadata": {
            "tags": []
          },
          "execution_count": 33
        }
      ]
    },
    {
      "cell_type": "code",
      "metadata": {
        "id": "uLdPPWllwGc6",
        "colab": {
          "base_uri": "https://localhost:8080/",
          "height": 707
        },
        "outputId": "5a9cce37-ca7c-4282-aae1-13ce5a42810b"
      },
      "source": [
        "ax = df.plot.bar(title =\"NGram(1,3)\", figsize=(15,10),legend=True)"
      ],
      "execution_count": null,
      "outputs": [
        {
          "output_type": "display_data",
          "data": {
            "image/png": "[encoded data removed]",
            "text/plain": [
              "<Figure size 1080x720 with 1 Axes>"
            ]
          },
          "metadata": {
            "tags": [],
            "needs_background": "light"
          }
        }
      ]
    },
    {
      "cell_type": "markdown",
      "metadata": {
        "id": "ee4yIx2t7S9Y"
      },
      "source": [
        "**Validation**"
      ]
    },
    {
      "cell_type": "markdown",
      "metadata": {
        "id": "yBfwHLG05wIk"
      },
      "source": [
        "**CrossValidatiom**"
      ]
    },
    {
      "cell_type": "code",
      "metadata": {
        "id": "ZgJg7XTU73VY"
      },
      "source": [
        "from sklearn.model_selection import KFold \n",
        "from sklearn.metrics import *\n",
        "result=\"classifier *  Accuracy * f1_score * Recall * precision\"+\"\\n\"\n",
        "def test(s,clf, clf_name):\n",
        "    global result\n",
        "    kf = KFold(n_splits=s,shuffle=True, random_state=42) \n",
        "    i=0\n",
        "    a=0\n",
        "    avg_f=0\n",
        "    avg_r=0\n",
        "    avg_p=0\n",
        "    for train_index, test_index in kf.split(data):\n",
        "       \n",
        "    #print(\"Train:\", train_index, \"Validation:\",test_index)\n",
        "        train_text=data.iloc[train_index]['Claim'].values\n",
        "        train_y=data.iloc[train_index]['ClaimLabel'].values.astype(str)\n",
        "   \n",
        "        test_text=data.iloc[test_index]['Claim'].values\n",
        "        test_y=data.iloc[test_index]['ClaimLabel'].values.astype(str)\n",
        "        text_clf = Pipeline([('vect', CountVectorizer()),  # Counts occurrences of each word\n",
        "                         # Normalize the counts based on document length\n",
        "                         ('clf', clf()),\n",
        "                         ])\n",
        "    \n",
        "        text_clf.fit(train_text,train_y)\n",
        "        predicted = text_clf.predict(test_text)\n",
        "        print('split'+str(len(test_y)/len(train_text)*100))\n",
        "        # Compute accuracy\n",
        "        acc = accuracy_score(test_y, predicted)\n",
        "        f=f1_score(test_y, predicted,average='weighted')\n",
        "        r=recall_score(test_y, predicted,average='weighted')\n",
        "        p=precision_score(test_y, predicted,average='weighted')\n",
        "        \n",
        "        a+=acc\n",
        "        avg_f+=f\n",
        "        avg_r+=r\n",
        "        avg_p+=p\n",
        "        #result+=str(i)+'*'+str(acc)+'*'+str(f)+'*'+str(r)+'*'+str(p)+'\\n'\n",
        "        print(\"accuracy_fold_%s\" % s, acc)\n",
        "        print(clf.__class__.__name__)\n",
        "        print(\"accuracy\",accuracy_score(test_y, predicted))\n",
        "        print(\"f1_score\",f)\n",
        "        print(\"recall\",r)\n",
        "        print(\"precision\",p)\n",
        "        print('-----')\n",
        "        i+=1\n",
        "        \n",
        "    print(\"aaaa f1_score\",avg_f)\n",
        "    print(\"aaa recall\",avg_r)\n",
        "    print(\"aaa precision\",avg_p)\n",
        "    \n",
        "    \n",
        "    a=a/s\n",
        "    avg_f/=s\n",
        "    avg_r/=s\n",
        "    avg_p/=s\n",
        "    print(\"average accuracy\", a)\n",
        "   \n",
        "    print(\"average f1_score\",avg_f)\n",
        "    print(\"average recall\",avg_r)\n",
        "    print(\"average precision\",avg_p)\n",
        "    result+=clf_name+'*'+str(a)+'*'+str(avg_f)+'*'+str(avg_r)+'*'+str(avg_p)+'\\n'"
      ],
      "execution_count": null,
      "outputs": []
    },
    {
      "cell_type": "code",
      "metadata": {
        "id": "6-6IW2NT75uk"
      },
      "source": [
        "k=[10]"
      ],
      "execution_count": null,
      "outputs": []
    },
    {
      "cell_type": "code",
      "metadata": {
        "id": "Dm_iE63J75Xx"
      },
      "source": [
        "from sklearn.pipeline import Pipeline #assemble several steps that can be cross-validated together while setting different parameters."
      ],
      "execution_count": null,
      "outputs": []
    },
    {
      "cell_type": "code",
      "metadata": {
        "colab": {
          "base_uri": "https://localhost:8080/"
        },
        "id": "lKtUm8V175HX",
        "outputId": "4f53ecde-97af-4c5c-ad6a-c4b163348f58"
      },
      "source": [
        "for classifier in cl:\n",
        "    for kf in k:\n",
        "        test(kf,classifier,classifier.__name__)"
      ],
      "execution_count": null,
      "outputs": [
        {
          "output_type": "stream",
          "text": [
            "split11.242603550295858\n",
            "accuracy_fold_10 0.9473684210526315\n",
            "type\n",
            "accuracy 0.9473684210526315\n",
            "f1_score 0.9476632758366504\n",
            "recall 0.9473684210526315\n",
            "precision 0.9532163742690059\n",
            "-----\n",
            "split11.242603550295858\n",
            "accuracy_fold_10 0.8421052631578947\n",
            "type\n",
            "accuracy 0.8421052631578947\n",
            "f1_score 0.8429898275099513\n",
            "recall 0.8421052631578947\n",
            "precision 0.8485380116959065\n",
            "-----\n",
            "split11.242603550295858\n",
            "accuracy_fold_10 0.6842105263157895\n",
            "type\n",
            "accuracy 0.6842105263157895\n",
            "f1_score 0.6558704453441294\n",
            "recall 0.6842105263157895\n",
            "precision 0.7017543859649122\n",
            "-----\n",
            "split11.242603550295858\n",
            "accuracy_fold_10 0.631578947368421\n",
            "type\n",
            "accuracy 0.631578947368421\n",
            "f1_score 0.631578947368421\n",
            "recall 0.631578947368421\n",
            "precision 0.6638755980861244\n",
            "-----\n",
            "split11.242603550295858\n",
            "accuracy_fold_10 0.631578947368421\n",
            "type\n",
            "accuracy 0.631578947368421\n",
            "f1_score 0.631578947368421\n",
            "recall 0.631578947368421\n",
            "precision 0.7255639097744361\n",
            "-----\n",
            "split11.242603550295858\n",
            "accuracy_fold_10 0.8421052631578947\n",
            "type\n",
            "accuracy 0.8421052631578947\n",
            "f1_score 0.8439359267734553\n",
            "recall 0.8421052631578947\n",
            "precision 0.8504784688995214\n",
            "-----\n",
            "split11.242603550295858\n",
            "accuracy_fold_10 0.9473684210526315\n",
            "type\n",
            "accuracy 0.9473684210526315\n",
            "f1_score 0.9470735662686127\n",
            "recall 0.9473684210526315\n",
            "precision 0.9521531100478469\n",
            "-----\n",
            "split11.242603550295858\n",
            "accuracy_fold_10 0.8421052631578947\n",
            "type\n",
            "accuracy 0.8421052631578947\n",
            "f1_score 0.8429898275099513\n",
            "recall 0.8421052631578947\n",
            "precision 0.8485380116959065\n",
            "-----\n",
            "split10.588235294117647\n",
            "accuracy_fold_10 0.8888888888888888\n",
            "type\n",
            "accuracy 0.8888888888888888\n",
            "f1_score 0.886002886002886\n",
            "recall 0.8888888888888888\n",
            "precision 0.9074074074074076\n",
            "-----\n",
            "split10.588235294117647\n",
            "accuracy_fold_10 0.6111111111111112\n",
            "type\n",
            "accuracy 0.6111111111111112\n",
            "f1_score 0.6148148148148148\n",
            "recall 0.6111111111111112\n",
            "precision 0.6222222222222222\n",
            "-----\n",
            "aaaa f1_score 7.844498464797294\n",
            "aaa recall 7.868421052631579\n",
            "aaa precision 8.07374750006329\n",
            "average accuracy 0.7868421052631579\n",
            "average f1_score 0.7844498464797294\n",
            "average recall 0.7868421052631579\n",
            "average precision 0.807374750006329\n",
            "split11.242603550295858\n",
            "accuracy_fold_10 0.8947368421052632\n",
            "ABCMeta\n",
            "accuracy 0.8947368421052632\n",
            "f1_score 0.8947368421052632\n",
            "recall 0.8947368421052632\n",
            "precision 0.8947368421052632\n",
            "-----\n",
            "split11.242603550295858\n",
            "accuracy_fold_10 0.7368421052631579\n",
            "ABCMeta\n",
            "accuracy 0.7368421052631579\n",
            "f1_score 0.7294707356626862\n",
            "recall 0.7368421052631579\n",
            "precision 0.8380566801619433\n",
            "-----\n",
            "split11.242603550295858\n",
            "accuracy_fold_10 0.631578947368421\n",
            "ABCMeta\n",
            "accuracy 0.631578947368421\n",
            "f1_score 0.5819599503810029\n",
            "recall 0.631578947368421\n",
            "precision 0.6425438596491228\n",
            "-----\n",
            "split11.242603550295858\n",
            "accuracy_fold_10 0.5789473684210527\n",
            "ABCMeta\n",
            "accuracy 0.5789473684210527\n",
            "f1_score 0.5742690058479533\n",
            "recall 0.5789473684210527\n",
            "precision 0.6240601503759399\n",
            "-----\n",
            "split11.242603550295858\n",
            "accuracy_fold_10 0.5789473684210527\n",
            "ABCMeta\n",
            "accuracy 0.5789473684210527\n",
            "f1_score 0.5719298245614035\n",
            "recall 0.5789473684210527\n",
            "precision 0.6963562753036436\n",
            "-----\n",
            "split11.242603550295858\n",
            "accuracy_fold_10 0.7894736842105263\n",
            "ABCMeta\n",
            "accuracy 0.7894736842105263\n",
            "f1_score 0.7894736842105263\n",
            "recall 0.7894736842105263\n",
            "precision 0.7894736842105263\n",
            "-----\n",
            "split11.242603550295858\n",
            "accuracy_fold_10 0.9473684210526315\n",
            "ABCMeta\n",
            "accuracy 0.9473684210526315\n",
            "f1_score 0.9470735662686127\n",
            "recall 0.9473684210526315\n",
            "precision 0.9521531100478469\n",
            "-----\n",
            "split11.242603550295858\n",
            "accuracy_fold_10 0.8421052631578947\n",
            "ABCMeta\n",
            "accuracy 0.8421052631578947\n",
            "f1_score 0.8429898275099513\n",
            "recall 0.8421052631578947\n",
            "precision 0.8485380116959065\n",
            "-----\n",
            "split10.588235294117647\n",
            "accuracy_fold_10 0.8333333333333334\n",
            "ABCMeta\n",
            "accuracy 0.8333333333333334\n",
            "f1_score 0.8317460317460318\n",
            "recall 0.8333333333333334\n",
            "precision 0.8354978354978354\n",
            "-----\n",
            "split10.588235294117647\n",
            "accuracy_fold_10 0.6666666666666666\n",
            "ABCMeta\n",
            "accuracy 0.6666666666666666\n",
            "f1_score 0.6666666666666665\n",
            "recall 0.6666666666666666\n",
            "precision 0.735930735930736\n",
            "-----\n",
            "aaaa f1_score 7.430316134960098\n",
            "aaa recall 7.5\n",
            "aaa precision 7.857347184978764\n",
            "average accuracy 0.75\n",
            "average f1_score 0.7430316134960098\n",
            "average recall 0.75\n",
            "average precision 0.7857347184978763\n",
            "split11.242603550295858\n",
            "accuracy_fold_10 0.9473684210526315\n",
            "ABCMeta\n",
            "accuracy 0.9473684210526315\n",
            "f1_score 0.9476632758366504\n",
            "recall 0.9473684210526315\n",
            "precision 0.9532163742690059\n",
            "-----\n",
            "split11.242603550295858\n",
            "accuracy_fold_10 0.8421052631578947\n",
            "ABCMeta\n",
            "accuracy 0.8421052631578947\n",
            "f1_score 0.8421052631578947\n",
            "recall 0.8421052631578947\n",
            "precision 0.8851674641148326\n",
            "-----\n",
            "split11.242603550295858\n",
            "accuracy_fold_10 0.6842105263157895\n",
            "ABCMeta\n",
            "accuracy 0.6842105263157895\n",
            "f1_score 0.6558704453441294\n",
            "recall 0.6842105263157895\n",
            "precision 0.7017543859649122\n",
            "-----\n",
            "split11.242603550295858\n",
            "accuracy_fold_10 0.631578947368421\n",
            "ABCMeta\n",
            "accuracy 0.631578947368421\n",
            "f1_score 0.631578947368421\n",
            "recall 0.631578947368421\n",
            "precision 0.6638755980861244\n",
            "-----\n",
            "split11.242603550295858\n",
            "accuracy_fold_10 0.6842105263157895\n",
            "ABCMeta\n",
            "accuracy 0.6842105263157895\n",
            "f1_score 0.6877192982456141\n",
            "recall 0.6842105263157895\n",
            "precision 0.7535885167464115\n",
            "-----\n",
            "split11.242603550295858\n",
            "accuracy_fold_10 0.8421052631578947\n",
            "ABCMeta\n",
            "accuracy 0.8421052631578947\n",
            "f1_score 0.8439359267734553\n",
            "recall 0.8421052631578947\n",
            "precision 0.8504784688995214\n",
            "-----\n",
            "split11.242603550295858\n",
            "accuracy_fold_10 0.9473684210526315\n",
            "ABCMeta\n",
            "accuracy 0.9473684210526315\n",
            "f1_score 0.9470735662686127\n",
            "recall 0.9473684210526315\n",
            "precision 0.9521531100478469\n",
            "-----\n",
            "split11.242603550295858\n",
            "accuracy_fold_10 0.8421052631578947\n",
            "ABCMeta\n",
            "accuracy 0.8421052631578947\n",
            "f1_score 0.8429898275099513\n",
            "recall 0.8421052631578947\n",
            "precision 0.8485380116959065\n",
            "-----\n",
            "split10.588235294117647\n",
            "accuracy_fold_10 0.8888888888888888\n",
            "ABCMeta\n",
            "accuracy 0.8888888888888888\n",
            "f1_score 0.886002886002886\n",
            "recall 0.8888888888888888\n",
            "precision 0.9074074074074076\n",
            "-----\n",
            "split10.588235294117647\n",
            "accuracy_fold_10 0.6666666666666666\n",
            "ABCMeta\n",
            "accuracy 0.6666666666666666\n",
            "f1_score 0.6708333333333335\n",
            "recall 0.6666666666666666\n",
            "precision 0.691358024691358\n",
            "-----\n",
            "aaaa f1_score 7.955772769840948\n",
            "aaa recall 7.976608187134503\n",
            "aaa precision 8.207537361923327\n",
            "average accuracy 0.7976608187134503\n",
            "average f1_score 0.7955772769840948\n",
            "average recall 0.7976608187134503\n",
            "average precision 0.8207537361923327\n",
            "split11.242603550295858\n",
            "accuracy_fold_10 0.9473684210526315\n",
            "type\n",
            "accuracy 0.9473684210526315\n",
            "f1_score 0.9476632758366504\n",
            "recall 0.9473684210526315\n",
            "precision 0.9532163742690059\n",
            "-----\n",
            "split11.242603550295858\n",
            "accuracy_fold_10 0.8947368421052632\n",
            "type\n",
            "accuracy 0.8947368421052632\n",
            "f1_score 0.8953216374269006\n",
            "recall 0.8947368421052632\n",
            "precision 0.9157894736842105\n",
            "-----\n",
            "split11.242603550295858\n",
            "accuracy_fold_10 0.6842105263157895\n",
            "type\n",
            "accuracy 0.6842105263157895\n",
            "f1_score 0.6558704453441294\n",
            "recall 0.6842105263157895\n",
            "precision 0.7017543859649122\n",
            "-----\n",
            "split11.242603550295858\n",
            "accuracy_fold_10 0.6842105263157895\n",
            "type\n",
            "accuracy 0.6842105263157895\n",
            "f1_score 0.6859649122807018\n",
            "recall 0.6842105263157895\n",
            "precision 0.7029239766081871\n",
            "-----\n",
            "split11.242603550295858\n",
            "accuracy_fold_10 0.7368421052631579\n",
            "type\n",
            "accuracy 0.7368421052631579\n",
            "f1_score 0.7412649270234409\n",
            "recall 0.7368421052631579\n",
            "precision 0.7824561403508772\n",
            "-----\n",
            "split11.242603550295858\n",
            "accuracy_fold_10 0.8421052631578947\n",
            "type\n",
            "accuracy 0.8421052631578947\n",
            "f1_score 0.8439359267734553\n",
            "recall 0.8421052631578947\n",
            "precision 0.8504784688995214\n",
            "-----\n",
            "split11.242603550295858\n",
            "accuracy_fold_10 0.9473684210526315\n",
            "type\n",
            "accuracy 0.9473684210526315\n",
            "f1_score 0.9470735662686127\n",
            "recall 0.9473684210526315\n",
            "precision 0.9521531100478469\n",
            "-----\n",
            "split11.242603550295858\n",
            "accuracy_fold_10 0.7894736842105263\n",
            "type\n",
            "accuracy 0.7894736842105263\n",
            "f1_score 0.790643274853801\n",
            "recall 0.7894736842105263\n",
            "precision 0.8093567251461987\n",
            "-----\n",
            "split10.588235294117647\n",
            "accuracy_fold_10 0.8333333333333334\n",
            "type\n",
            "accuracy 0.8333333333333334\n",
            "f1_score 0.8317460317460318\n",
            "recall 0.8333333333333334\n",
            "precision 0.8354978354978354\n",
            "-----\n",
            "split10.588235294117647\n",
            "accuracy_fold_10 0.6111111111111112\n",
            "type\n",
            "accuracy 0.6111111111111112\n",
            "f1_score 0.6148148148148148\n",
            "recall 0.6111111111111112\n",
            "precision 0.6222222222222222\n",
            "-----\n",
            "aaaa f1_score 7.954298812368538\n",
            "aaa recall 7.970760233918128\n",
            "aaa precision 8.125848712690818\n",
            "average accuracy 0.7970760233918128\n",
            "average f1_score 0.7954298812368539\n",
            "average recall 0.7970760233918128\n",
            "average precision 0.8125848712690817\n",
            "split11.242603550295858\n",
            "accuracy_fold_10 0.8947368421052632\n",
            "ABCMeta\n",
            "accuracy 0.8947368421052632\n",
            "f1_score 0.8953216374269006\n",
            "recall 0.8947368421052632\n",
            "precision 0.9157894736842105\n",
            "-----\n",
            "split11.242603550295858\n",
            "accuracy_fold_10 0.6842105263157895\n",
            "ABCMeta\n",
            "accuracy 0.6842105263157895\n",
            "f1_score 0.6859649122807018\n",
            "recall 0.6842105263157895\n",
            "precision 0.7029239766081871\n",
            "-----\n",
            "split11.242603550295858\n",
            "accuracy_fold_10 0.6842105263157895\n",
            "ABCMeta\n",
            "accuracy 0.6842105263157895\n",
            "f1_score 0.6748120300751881\n",
            "recall 0.6842105263157895\n",
            "precision 0.6815114709851552\n",
            "-----\n",
            "split11.242603550295858\n",
            "accuracy_fold_10 0.631578947368421\n",
            "ABCMeta\n",
            "accuracy 0.631578947368421\n",
            "f1_score 0.631578947368421\n",
            "recall 0.631578947368421\n",
            "precision 0.6638755980861244\n",
            "-----\n",
            "split11.242603550295858\n",
            "accuracy_fold_10 0.631578947368421\n",
            "ABCMeta\n",
            "accuracy 0.631578947368421\n",
            "f1_score 0.6358504958047292\n",
            "recall 0.631578947368421\n",
            "precision 0.6435406698564593\n",
            "-----\n",
            "split11.242603550295858\n",
            "accuracy_fold_10 0.8421052631578947\n",
            "ABCMeta\n",
            "accuracy 0.8421052631578947\n",
            "f1_score 0.8439359267734553\n",
            "recall 0.8421052631578947\n",
            "precision 0.8504784688995214\n",
            "-----\n",
            "split11.242603550295858\n",
            "accuracy_fold_10 0.9473684210526315\n",
            "ABCMeta\n",
            "accuracy 0.9473684210526315\n",
            "f1_score 0.9470735662686127\n",
            "recall 0.9473684210526315\n",
            "precision 0.9521531100478469\n",
            "-----\n",
            "split11.242603550295858\n",
            "accuracy_fold_10 0.7894736842105263\n",
            "ABCMeta\n",
            "accuracy 0.7894736842105263\n",
            "f1_score 0.790643274853801\n",
            "recall 0.7894736842105263\n",
            "precision 0.8093567251461987\n",
            "-----\n",
            "split10.588235294117647\n",
            "accuracy_fold_10 0.8333333333333334\n",
            "ABCMeta\n",
            "accuracy 0.8333333333333334\n",
            "f1_score 0.8338493292053665\n",
            "recall 0.8333333333333334\n",
            "precision 0.8395061728395061\n",
            "-----\n",
            "split10.588235294117647\n",
            "accuracy_fold_10 0.6111111111111112\n",
            "ABCMeta\n",
            "accuracy 0.6111111111111112\n",
            "f1_score 0.6148148148148148\n",
            "recall 0.6111111111111112\n",
            "precision 0.6222222222222222\n",
            "-----\n",
            "aaaa f1_score 7.553844934871992\n",
            "aaa recall 7.549707602339181\n",
            "aaa precision 7.681357888375432\n",
            "average accuracy 0.7549707602339181\n",
            "average f1_score 0.7553844934871992\n",
            "average recall 0.7549707602339181\n",
            "average precision 0.7681357888375432\n"
          ],
          "name": "stdout"
        }
      ]
    },
    {
      "cell_type": "code",
      "metadata": {
        "colab": {
          "base_uri": "https://localhost:8080/",
          "height": 204
        },
        "id": "4bzkpHmq8HKV",
        "outputId": "dea5e690-e5c5-4b8a-9545-d0e973d5c61a"
      },
      "source": [
        "from io import StringIO \n",
        "df = pd.read_csv(StringIO(result), sep =\"*\")#, error_bad_lines=False) \n",
        "# Print the dataframe \n",
        "df"
      ],
      "execution_count": null,
      "outputs": [
        {
          "output_type": "execute_result",
          "data": {
            "text/html": [
              "<div>\n",
              "<style scoped>\n",
              "    .dataframe tbody tr th:only-of-type {\n",
              "        vertical-align: middle;\n",
              "    }\n",
              "\n",
              "    .dataframe tbody tr th {\n",
              "        vertical-align: top;\n",
              "    }\n",
              "\n",
              "    .dataframe thead th {\n",
              "        text-align: right;\n",
              "    }\n",
              "</style>\n",
              "<table border=\"1\" class=\"dataframe\">\n",
              "  <thead>\n",
              "    <tr style=\"text-align: right;\">\n",
              "      <th></th>\n",
              "      <th>classifier</th>\n",
              "      <th>Accuracy</th>\n",
              "      <th>f1_score</th>\n",
              "      <th>Recall</th>\n",
              "      <th>precision</th>\n",
              "    </tr>\n",
              "  </thead>\n",
              "  <tbody>\n",
              "    <tr>\n",
              "      <th>0</th>\n",
              "      <td>LogisticRegression</td>\n",
              "      <td>0.786842</td>\n",
              "      <td>0.784450</td>\n",
              "      <td>0.786842</td>\n",
              "      <td>0.807375</td>\n",
              "    </tr>\n",
              "    <tr>\n",
              "      <th>1</th>\n",
              "      <td>SVC</td>\n",
              "      <td>0.750000</td>\n",
              "      <td>0.743032</td>\n",
              "      <td>0.750000</td>\n",
              "      <td>0.785735</td>\n",
              "    </tr>\n",
              "    <tr>\n",
              "      <th>2</th>\n",
              "      <td>NuSVC</td>\n",
              "      <td>0.797661</td>\n",
              "      <td>0.795577</td>\n",
              "      <td>0.797661</td>\n",
              "      <td>0.820754</td>\n",
              "    </tr>\n",
              "    <tr>\n",
              "      <th>3</th>\n",
              "      <td>LinearSVC</td>\n",
              "      <td>0.797076</td>\n",
              "      <td>0.795430</td>\n",
              "      <td>0.797076</td>\n",
              "      <td>0.812585</td>\n",
              "    </tr>\n",
              "    <tr>\n",
              "      <th>4</th>\n",
              "      <td>DecisionTreeClassifier</td>\n",
              "      <td>0.754971</td>\n",
              "      <td>0.755384</td>\n",
              "      <td>0.754971</td>\n",
              "      <td>0.768136</td>\n",
              "    </tr>\n",
              "  </tbody>\n",
              "</table>\n",
              "</div>"
            ],
            "text/plain": [
              "              classifier     Accuracy    f1_score    Recall    precision\n",
              "0      LogisticRegression     0.786842    0.784450  0.786842    0.807375\n",
              "1                     SVC     0.750000    0.743032  0.750000    0.785735\n",
              "2                   NuSVC     0.797661    0.795577  0.797661    0.820754\n",
              "3               LinearSVC     0.797076    0.795430  0.797076    0.812585\n",
              "4  DecisionTreeClassifier     0.754971    0.755384  0.754971    0.768136"
            ]
          },
          "metadata": {
            "tags": []
          },
          "execution_count": 39
        }
      ]
    },
    {
      "cell_type": "code",
      "metadata": {
        "colab": {
          "base_uri": "https://localhost:8080/",
          "height": 604
        },
        "id": "uBpT3ivn8G8U",
        "outputId": "fc0fecd6-32fa-4e8f-f00a-5fe7e2651258"
      },
      "source": [
        "ax = df.plot.bar(title =\"CrossValidatiom\", figsize=(15,10),legend=True)"
      ],
      "execution_count": null,
      "outputs": [
        {
          "output_type": "display_data",
          "data": {
            "image/png": "[encoded data removed]",
            "text/plain": [
              "<Figure size 1080x720 with 1 Axes>"
            ]
          },
          "metadata": {
            "tags": [],
            "needs_background": "light"
          }
        }
      ]
    }
  ]
}